{
 "cells": [
  {
   "cell_type": "code",
   "execution_count": 1,
   "id": "584f14d8-d117-46d2-bf9e-6a83268be6ef",
   "metadata": {},
   "outputs": [
    {
     "name": "stdout",
     "output_type": "stream",
     "text": [
      "Парсинг страницы 1...\n",
      "Сохранено 59 записей\n"
     ]
    }
   ],
   "source": [
    "# Данные по книгам Лабиринт\n",
    "\n",
    "import requests\n",
    "from bs4 import BeautifulSoup\n",
    "import pandas as pd\n",
    "\n",
    "base_url = 'https://www.labirint.ru/rating/votes/?page={}'\n",
    "headers = {\n",
    "    'User-Agent': 'Mozilla/5.0 (Windows NT 10.0; Win64; x64) AppleWebKit/537.36 (KHTML, like Gecko) Chrome/120.0.0.0 Safari/537.36'\n",
    "}\n",
    "response = requests.get(base_url, headers=headers)\n",
    "soup = BeautifulSoup(response.text, 'html.parser')\n",
    "products = soup.select('div.product.need-watch')\n",
    "book_nom = 0\n",
    "all_books = []\n",
    "\n",
    "# нахожу данные со всех доступных страниц\n",
    "for page in range(1, 2): # указать можно больше, чем доступно к просмотру на сайте\n",
    "    url = base_url.format(page)\n",
    "    print(f'Парсинг страницы {page}...')\n",
    "\n",
    "    try:\n",
    "        response = requests.get(url, headers=headers)\n",
    "        response.raise_for_status()  # проверка на ошибки\n",
    "        soup = BeautifulSoup(response.text, 'html.parser')\n",
    "\n",
    "        # сбор данных с текущей страницы\n",
    "        for product in soup.select('div.product[data-product-id]'):\n",
    "          product_id = product.get('data-product-id', 'N/A')\n",
    "          title = product.get('data-name', 'N/A')\n",
    "          price = product.get('data-price', '0')\n",
    "          genre = product.get('data-maingenre-name')\n",
    "          type_ = product.get('data-first-genre-name', )\n",
    "          discount_price = product.get('data-discount-price', price)\n",
    "          author = product.find('div', class_='product-author').get_text(strip=True) if product.find('div', class_='product-author') else 'Автор не указан'\n",
    "          votes_tag = product.find('span', class_='countvotesbg')\n",
    "          votes = votes_tag.text.strip() if votes_tag else '0'\n",
    "          reviews_block = product.find('span', class_='product-hint')\n",
    "          if product_id != 'чему-то':\n",
    "            book_nom += 1\n",
    "\n",
    "          # сбор данных по количеству рецензий\n",
    "          reviews_block = product.find('span', class_='product-hint')\n",
    "          reviews_count = '0'\n",
    "          if reviews_block:\n",
    "              reviews_link = reviews_block.find('a', {'data-event-label': 'reviewsCount'})\n",
    "              if reviews_link:\n",
    "                  reviews_span = reviews_link.find('span')\n",
    "                  if reviews_span:\n",
    "                      reviews_count = reviews_span.text.strip()\n",
    "              all_books.append({\n",
    "                  'ID': product_id,\n",
    "                  '№': book_nom,\n",
    "                  'Название': title,\n",
    "                  'Жанр': genre,\n",
    "                  'Тип': type_,\n",
    "                  'Автор': author,\n",
    "                  'Цена': price,\n",
    "                  'Цена со скидкой': discount_price,\n",
    "                  'Рецензии': reviews_count,\n",
    "                  'Голоса': votes\n",
    "              })\n",
    "\n",
    "    except Exception as e:\n",
    "        print(f'Ошибка на странице {page}: {str(e)}')\n",
    "        continue\n",
    "\n",
    "# сохранение в CSV\n",
    "if all_books:\n",
    "    df = pd.DataFrame(all_books)\n",
    "    df.to_csv('labirint_data.csv', index=False, encoding='utf-8-sig')\n",
    "    print(f'Сохранено {len(df)} записей')"
   ]
  },
  {
   "cell_type": "code",
   "execution_count": null,
   "id": "c38c0c18-e589-4010-b837-5ff34f7c3976",
   "metadata": {},
   "outputs": [],
   "source": []
  }
 ],
 "metadata": {
  "kernelspec": {
   "display_name": "Python 3 (ipykernel)",
   "language": "python",
   "name": "python3"
  },
  "language_info": {
   "codemirror_mode": {
    "name": "ipython",
    "version": 3
   },
   "file_extension": ".py",
   "mimetype": "text/x-python",
   "name": "python",
   "nbconvert_exporter": "python",
   "pygments_lexer": "ipython3",
   "version": "3.13.3"
  }
 },
 "nbformat": 4,
 "nbformat_minor": 5
}
