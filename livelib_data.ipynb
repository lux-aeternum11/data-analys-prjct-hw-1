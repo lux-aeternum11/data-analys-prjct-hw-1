{
 "cells": [
  {
   "cell_type": "code",
   "execution_count": 1,
   "id": "9eb958c2-26fe-4e28-b79d-3044b05b69e4",
   "metadata": {},
   "outputs": [
    {
     "name": "stdout",
     "output_type": "stream",
     "text": [
      "Парсинг страницы 1...\n",
      "Парсинг страницы 2...\n",
      "Парсинг страницы 3...\n",
      "Сохранено 60 книг\n"
     ]
    }
   ],
   "source": [
    "# Данные по книгам Livelib\n",
    "\n",
    "import requests\n",
    "from bs4 import BeautifulSoup\n",
    "import pandas as pd\n",
    "\n",
    "base_url = 'https://www.livelib.ru/books/movers-and-shakers/listview/biglist/~{}'\n",
    "headers = {\n",
    "    'User-Agent': 'Mozilla/5.0 (Windows NT 10.0; Win64; x64) AppleWebKit/537.36 (KHTML, like Gecko) Chrome/120.0.0.0 Safari/537.36'\n",
    "}\n",
    "\n",
    "all_books = []\n",
    "book_counter = 0\n",
    "\n",
    "# Парсинг первых 10 страниц\n",
    "for page in range(1, 4):\n",
    "    url = base_url.format(page)\n",
    "    print(f'Парсинг страницы {page}...')\n",
    "\n",
    "    try:\n",
    "        response = requests.get(url, headers=headers)\n",
    "        response.raise_for_status()\n",
    "        soup = BeautifulSoup(response.text, 'html.parser')\n",
    "\n",
    "        # Находим все элементы книг\n",
    "        books = soup.select('li.book-item__item')\n",
    "\n",
    "        for book in books:\n",
    "            book_counter += 1\n",
    "\n",
    "            # Извлечение данных\n",
    "            title = book.select_one('a.book-item__title').text.strip() if book.select_one('a.book-item__title') else 'Название не указано'\n",
    "            author = book.select_one('a.book-item__author').text.strip() if book.select_one('a.book-item__author') else 'Автор не указан'\n",
    "            rating = book.select_one('div.book-item__rating').text.strip() if book.select_one('div.book-item__rating') else '0'\n",
    "\n",
    "            # Статус книги (хит, новинка и т.д.)\n",
    "            status_tag = book.select_one('a.book-item__status')\n",
    "            status = status_tag['title'] if status_tag else ''\n",
    "\n",
    "            # Ссылка на обложку\n",
    "            img_tag = book.select_one('img[data-pagespeed-lazy-src]')\n",
    "            image_url = img_tag['data-pagespeed-lazy-src'] if img_tag else ''\n",
    "\n",
    "            # Ссылка на книгу\n",
    "            book_url = book.select_one('a.book-item__link')['href'] if book.select_one('a.book-item__link') else ''\n",
    "\n",
    "            # Сбор информации о рецензиях\n",
    "            reviews_block = book.select_one('div.book-item__menu-block')\n",
    "            reviews_count = '0'\n",
    "            if reviews_block:\n",
    "                reviews_link = reviews_block.find('a', string='Поделиться')\n",
    "                if reviews_link:\n",
    "                    reviews_count = reviews_link.find_next_sibling('a').text.strip() if reviews_link.find_next_sibling('a') else '0'\n",
    "\n",
    "            all_books.append({\n",
    "                '№': book_counter,\n",
    "                'Название': title,\n",
    "                'Автор': author,\n",
    "                'Рейтинг': rating.replace(',', '.'),\n",
    "                'Статус': status\n",
    "\n",
    "\n",
    "\n",
    "            })\n",
    "\n",
    "    except Exception as e:\n",
    "        print(f'Ошибка на странице {page}: {str(e)}')\n",
    "        continue\n",
    "\n",
    "# Сохранение в CSV\n",
    "if all_books:\n",
    "    df = pd.DataFrame(all_books)\n",
    "    df.to_csv('livelib_books.csv', index=False, encoding='utf-8-sig')\n",
    "    print(f'Сохранено {len(df)} книг')"
   ]
  },
  {
   "cell_type": "code",
   "execution_count": null,
   "id": "0a02e7a8-4452-47ed-93e1-368a260f8384",
   "metadata": {},
   "outputs": [],
   "source": []
  }
 ],
 "metadata": {
  "kernelspec": {
   "display_name": "Python 3 (ipykernel)",
   "language": "python",
   "name": "python3"
  },
  "language_info": {
   "codemirror_mode": {
    "name": "ipython",
    "version": 3
   },
   "file_extension": ".py",
   "mimetype": "text/x-python",
   "name": "python",
   "nbconvert_exporter": "python",
   "pygments_lexer": "ipython3",
   "version": "3.13.3"
  }
 },
 "nbformat": 4,
 "nbformat_minor": 5
}
